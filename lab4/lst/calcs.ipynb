{
 "cells": [
  {
   "cell_type": "code",
   "execution_count": 5,
   "metadata": {},
   "outputs": [
    {
     "name": "stdout",
     "output_type": "stream",
     "text": [
      "3.0\n"
     ]
    }
   ],
   "source": [
    "Perr = 1E-07\n",
    "# M = 181532 # число бит в файле\n",
    "k = 5 # параметры кода,\n",
    "n = 15 # параметры кода,\n",
    "# T = 0.00001 # скорость передачи данных\n",
    "T = 1\n",
    "M = 1\n",
    "L = 1\n",
    "\n",
    "T_f = (M / k) * n * T * L\n",
    "println(T_f)"
   ]
  },
  {
   "cell_type": "code",
   "execution_count": 6,
   "metadata": {},
   "outputs": [
    {
     "name": "stdout",
     "output_type": "stream",
     "text": [
      "6.477872666616284\n",
      "9.515787612531861\n",
      "35.78366220222882\n"
     ]
    }
   ],
   "source": [
    "k = [5, 16, 45] \n",
    "n = [15, 31, 63]\n",
    "L = [463115, 203609, 39124]\n",
    "L = L ./ 1000000\n",
    "L = 1 ./ L\n",
    "\n",
    "for i in 1:3\n",
    "    T_f = (M / k[i]) * n[i] * T * L[i]\n",
    "    println(T_f)\n",
    "    # println(T_f * L[i])\n",
    "end"
   ]
  },
  {
   "cell_type": "code",
   "execution_count": 7,
   "metadata": {},
   "outputs": [
    {
     "name": "stdout",
     "output_type": "stream",
     "text": [
      "2.4900005727001315\n",
      "2.014685759388679\n",
      "2.3242969831731966\n"
     ]
    }
   ],
   "source": [
    "k = [7, 21, 51] \n",
    "n = [15, 31, 63]\n",
    "\n",
    "L = [860585, 732715, 531470]\n",
    "L = L ./ 1000000\n",
    "L = 1 ./ L\n",
    "\n",
    "for i in 1:3\n",
    "    T_f = (M / k[i]) * n[i] * T * L[i]\n",
    "    println(T_f)\n",
    "end"
   ]
  },
  {
   "cell_type": "code",
   "execution_count": 8,
   "metadata": {},
   "outputs": [
    {
     "name": "stdout",
     "output_type": "stream",
     "text": [
      "1.8127539150305267\n",
      "2.3108888001849945\n",
      "1.724362443408232\n",
      "1.6956470237801577\n"
     ]
    }
   ],
   "source": [
    "k = [4, 7, 21, 51] \n",
    "n = [7, 15, 31, 63]\n",
    "\n",
    "L = [965382, 927287, 856079, 728509]\n",
    "L = L ./ 1000000\n",
    "L = 1 ./ L\n",
    "\n",
    "for i in 1:4\n",
    "    T_f = (M / k[i]) * n[i] * T * L[i]\n",
    "    println(T_f)\n",
    "end"
   ]
  }
 ],
 "metadata": {
  "kernelspec": {
   "display_name": "Julia 1.9.3",
   "language": "julia",
   "name": "julia-1.9"
  },
  "language_info": {
   "file_extension": ".jl",
   "mimetype": "application/julia",
   "name": "julia",
   "version": "1.9.3"
  }
 },
 "nbformat": 4,
 "nbformat_minor": 2
}
