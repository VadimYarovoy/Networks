{
 "cells": [
  {
   "cell_type": "code",
   "execution_count": 59,
   "metadata": {},
   "outputs": [
    {
     "name": "stdout",
     "output_type": "stream",
     "text": [
      "5.44596\n"
     ]
    }
   ],
   "source": [
    "Perr = 1E-07\n",
    "M = 181532 # число бит в файле\n",
    "k = 5 # параметры кода,\n",
    "n = 15 # параметры кода,\n",
    "T = 0.00001 # скорость передачи данных\n",
    "L = 1\n",
    "\n",
    "T_f = (M / k) * n * T * L\n",
    "println(T_f)"
   ]
  },
  {
   "cell_type": "code",
   "execution_count": 60,
   "metadata": {},
   "outputs": [
    {
     "name": "stdout",
     "output_type": "stream",
     "text": [
      "11.759411809161874\n",
      "17.274199568781338\n",
      "64.95879766895001\n"
     ]
    }
   ],
   "source": [
    "k = [5, 16, 45] \n",
    "n = [15, 31, 63]\n",
    "L = [463115, 203609, 39124]\n",
    "L = L ./ 1000000\n",
    "L = 1 ./ L\n",
    "\n",
    "for i in 1:3\n",
    "    T_f = (M / k[i]) * n[i] * T * L[i]\n",
    "    println(T_f)\n",
    "    # println(T_f * L[i])\n",
    "end"
   ]
  },
  {
   "cell_type": "code",
   "execution_count": 61,
   "metadata": {},
   "outputs": [
    {
     "name": "stdout",
     "output_type": "stream",
     "text": [
      "4.520147839634004\n",
      "3.657299352733457\n",
      "4.219342799493967\n"
     ]
    }
   ],
   "source": [
    "k = [7, 21, 51] \n",
    "n = [15, 31, 63]\n",
    "\n",
    "L = [860585, 732715, 531470]\n",
    "L = L ./ 1000000\n",
    "L = 1 ./ L\n",
    "\n",
    "for i in 1:3\n",
    "    T_f = (M / k[i]) * n[i] * T * L[i]\n",
    "    println(T_f)\n",
    "end"
   ]
  },
  {
   "cell_type": "code",
   "execution_count": 63,
   "metadata": {},
   "outputs": [
    {
     "name": "stdout",
     "output_type": "stream",
     "text": [
      "3.290728437033216\n",
      "4.195002656751825\n",
      "3.130269630767832\n",
      "3.078141955208596\n"
     ]
    }
   ],
   "source": [
    "k = [4, 7, 21, 51] \n",
    "n = [7, 15, 31, 63]\n",
    "\n",
    "L = [965382, 927287, 856079, 728509]\n",
    "L = L ./ 1000000\n",
    "L = 1 ./ L\n",
    "\n",
    "for i in 1:4\n",
    "    T_f = (M / k[i]) * n[i] * T * L[i]\n",
    "    println(T_f)\n",
    "end"
   ]
  }
 ],
 "metadata": {
  "kernelspec": {
   "display_name": "Julia 1.9.3",
   "language": "julia",
   "name": "julia-1.9"
  },
  "language_info": {
   "file_extension": ".jl",
   "mimetype": "application/julia",
   "name": "julia",
   "version": "1.9.3"
  }
 },
 "nbformat": 4,
 "nbformat_minor": 2
}
