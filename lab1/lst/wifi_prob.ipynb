{
 "cells": [
  {
   "cell_type": "code",
   "execution_count": 37,
   "metadata": {},
   "outputs": [],
   "source": [
    "from scipy.stats import norm"
   ]
  },
  {
   "cell_type": "code",
   "execution_count": 38,
   "metadata": {},
   "outputs": [],
   "source": [
    "from math import log10, pow, sqrt, pi"
   ]
  },
  {
   "cell_type": "code",
   "execution_count": 39,
   "metadata": {},
   "outputs": [],
   "source": [
    "import pandas as pd"
   ]
  },
  {
   "cell_type": "markdown",
   "metadata": {},
   "source": [
    "#### Расчет расстояния"
   ]
  },
  {
   "cell_type": "code",
   "execution_count": 40,
   "metadata": {},
   "outputs": [],
   "source": [
    "def d3d(ha, hm, d):\n",
    "    if ha >= hm:\n",
    "        return sqrt(pow((ha - hm), 2) + pow(d, 2))\n",
    "    else:\n",
    "        return sqrt(pow((hm - ha), 2) + pow(d, 2))"
   ]
  },
  {
   "cell_type": "markdown",
   "metadata": {},
   "source": [
    "#### Загрузка данных "
   ]
  },
  {
   "cell_type": "code",
   "execution_count": 41,
   "metadata": {},
   "outputs": [],
   "source": [
    "data = pd.read_csv(\"data/data.csv\")"
   ]
  },
  {
   "cell_type": "markdown",
   "metadata": {},
   "source": [
    "#### test"
   ]
  },
  {
   "cell_type": "code",
   "execution_count": 42,
   "metadata": {},
   "outputs": [
    {
     "data": {
      "text/html": [
       "<div>\n",
       "<style scoped>\n",
       "    .dataframe tbody tr th:only-of-type {\n",
       "        vertical-align: middle;\n",
       "    }\n",
       "\n",
       "    .dataframe tbody tr th {\n",
       "        vertical-align: top;\n",
       "    }\n",
       "\n",
       "    .dataframe thead th {\n",
       "        text-align: right;\n",
       "    }\n",
       "</style>\n",
       "<table border=\"1\" class=\"dataframe\">\n",
       "  <thead>\n",
       "    <tr style=\"text-align: right;\">\n",
       "      <th></th>\n",
       "      <th>2G_d</th>\n",
       "      <th>2G_P</th>\n",
       "    </tr>\n",
       "  </thead>\n",
       "  <tbody>\n",
       "    <tr>\n",
       "      <th>0</th>\n",
       "      <td>155</td>\n",
       "      <td>-63</td>\n",
       "    </tr>\n",
       "    <tr>\n",
       "      <th>1</th>\n",
       "      <td>152</td>\n",
       "      <td>-59</td>\n",
       "    </tr>\n",
       "    <tr>\n",
       "      <th>2</th>\n",
       "      <td>158</td>\n",
       "      <td>-65</td>\n",
       "    </tr>\n",
       "  </tbody>\n",
       "</table>\n",
       "</div>"
      ],
      "text/plain": [
       "   2G_d  2G_P\n",
       "0   155   -63\n",
       "1   152   -59\n",
       "2   158   -65"
      ]
     },
     "execution_count": 42,
     "metadata": {},
     "output_type": "execute_result"
    }
   ],
   "source": [
    "data[[\"2G_d\", \"2G_P\"]]"
   ]
  },
  {
   "cell_type": "code",
   "execution_count": 45,
   "metadata": {},
   "outputs": [],
   "source": [
    "import numpy as np\n",
    "import math"
   ]
  },
  {
   "cell_type": "markdown",
   "metadata": {},
   "source": [
    "#### 2G"
   ]
  },
  {
   "cell_type": "code",
   "execution_count": 46,
   "metadata": {},
   "outputs": [
    {
     "name": "stdout",
     "output_type": "stream",
     "text": [
      "156.41611170208776 0.9989765213357075\n",
      "153.44380078712857 0.9996830357650802\n",
      "159.38946012832844 0.9982310317608889\n"
     ]
    },
    {
     "data": {
      "text/plain": [
       "0.9989635296205588"
      ]
     },
     "execution_count": 46,
     "metadata": {},
     "output_type": "execute_result"
    }
   ],
   "source": [
    "ha = 38\n",
    "hm = 17\n",
    "\n",
    "sd = 12\n",
    "\n",
    "probs = []\n",
    "\n",
    "for d, P in data[[\"2G_d\", \"2G_P\"]].values:\n",
    "    d_3D = d3d(ha, hm, d)\n",
    "\n",
    "    prob = 1 - norm.cdf(-100, loc=P, scale=sd)\n",
    "\n",
    "    print(d_3D, prob)\n",
    "    probs = [*probs, prob]\n",
    "\n",
    "\n",
    "np.average(probs)"
   ]
  },
  {
   "cell_type": "markdown",
   "metadata": {},
   "source": [
    "#### 3G"
   ]
  },
  {
   "cell_type": "code",
   "execution_count": 47,
   "metadata": {},
   "outputs": [
    {
     "name": "stdout",
     "output_type": "stream",
     "text": [
      "156.41611170208776 0.943327245390237\n",
      "153.44380078712857 0.9217097964551826\n",
      "159.38946012832844 0.9666234924151828\n"
     ]
    },
    {
     "data": {
      "text/plain": [
       "0.9438868447535341"
      ]
     },
     "execution_count": 47,
     "metadata": {},
     "output_type": "execute_result"
    }
   ],
   "source": [
    "ha = 38\n",
    "hm = 17\n",
    "\n",
    "sd = 12\n",
    "\n",
    "probs = []\n",
    "\n",
    "for d, P in data[[\"3G_d\", \"3G_P\"]].values:\n",
    "    d_3D = d3d(ha, hm, d)\n",
    "\n",
    "    prob = 1 - norm.cdf(-100, loc=P, scale=sd)\n",
    "\n",
    "    print(d_3D, prob)\n",
    "    probs = [*probs, prob]\n",
    "\n",
    "\n",
    "np.average(probs)"
   ]
  },
  {
   "cell_type": "markdown",
   "metadata": {},
   "source": [
    "#### 4G"
   ]
  },
  {
   "cell_type": "code",
   "execution_count": 48,
   "metadata": {},
   "outputs": [
    {
     "name": "stdout",
     "output_type": "stream",
     "text": [
      "156.41611170208776 0.99922901521553\n",
      "153.44380078712857 0.8413447460685429\n",
      "159.38946012832844 0.9666234924151828\n"
     ]
    },
    {
     "data": {
      "text/plain": [
       "0.9357324178997519"
      ]
     },
     "execution_count": 48,
     "metadata": {},
     "output_type": "execute_result"
    }
   ],
   "source": [
    "ha = 38\n",
    "hm = 17\n",
    "\n",
    "sd = 6\n",
    "\n",
    "probs = []\n",
    "\n",
    "for d, P in data[[\"4G_d\", \"4G_P\"]].values:\n",
    "    d_3D = d3d(ha, hm, d)\n",
    "\n",
    "    prob = 1 - norm.cdf(-100, loc=P, scale=sd)\n",
    "\n",
    "    print(d_3D, prob)\n",
    "    probs = [*probs, prob]\n",
    "\n",
    "\n",
    "np.average(probs)"
   ]
  }
 ],
 "metadata": {
  "kernelspec": {
   "display_name": "Python 3",
   "language": "python",
   "name": "python3"
  },
  "language_info": {
   "codemirror_mode": {
    "name": "ipython",
    "version": 3
   },
   "file_extension": ".py",
   "mimetype": "text/x-python",
   "name": "python",
   "nbconvert_exporter": "python",
   "pygments_lexer": "ipython3",
   "version": "3.11.5"
  },
  "orig_nbformat": 4
 },
 "nbformat": 4,
 "nbformat_minor": 2
}
