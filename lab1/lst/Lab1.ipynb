{
 "cells": [
  {
   "cell_type": "code",
   "execution_count": 43,
   "metadata": {},
   "outputs": [],
   "source": [
    "import Base: @kwdef\n",
    "using Printf\n",
    "using Random\n",
    "using LaTeXStrings\n",
    "using Transducers\n",
    "using ProgressMeter\n",
    "using CSV\n",
    "using DataFrames\n",
    "import Statistics\n",
    "import Distances\n",
    "import Distributions"
   ]
  },
  {
   "cell_type": "code",
   "execution_count": 2,
   "metadata": {},
   "outputs": [],
   "source": [
    "using Plots\n",
    "using StatsPlots\n",
    "using ImageShow"
   ]
  },
  {
   "cell_type": "markdown",
   "metadata": {},
   "source": [
    "# Data"
   ]
  },
  {
   "cell_type": "code",
   "execution_count": 11,
   "metadata": {},
   "outputs": [
    {
     "data": {
      "text/html": [
       "<div><div style = \"float: left;\"><span>3×4 DataFrame</span></div><div style = \"clear: both;\"></div></div><div class = \"data-frame\" style = \"overflow-x: scroll;\"><table class = \"data-frame\" style = \"margin-bottom: 6px;\"><thead><tr class = \"header\"><th class = \"rowNumber\" style = \"font-weight: bold; text-align: right;\">Row</th><th style = \"text-align: left;\">dist</th><th style = \"text-align: left;\">2G_Power</th><th style = \"text-align: left;\">3G_Power</th><th style = \"text-align: left;\">4G_Power</th></tr><tr class = \"subheader headerLastRow\"><th class = \"rowNumber\" style = \"font-weight: bold; text-align: right;\"></th><th title = \"Int64\" style = \"text-align: left;\">Int64</th><th title = \"Int64\" style = \"text-align: left;\">Int64</th><th title = \"Int64\" style = \"text-align: left;\">Int64</th><th title = \"Int64\" style = \"text-align: left;\">Int64</th></tr></thead><tbody><tr><td class = \"rowNumber\" style = \"font-weight: bold; text-align: right;\">1</td><td style = \"text-align: right;\">155</td><td style = \"text-align: right;\">-63</td><td style = \"text-align: right;\">-81</td><td style = \"text-align: right;\">-81</td></tr><tr><td class = \"rowNumber\" style = \"font-weight: bold; text-align: right;\">2</td><td style = \"text-align: right;\">152</td><td style = \"text-align: right;\">-59</td><td style = \"text-align: right;\">-83</td><td style = \"text-align: right;\">-94</td></tr><tr><td class = \"rowNumber\" style = \"font-weight: bold; text-align: right;\">3</td><td style = \"text-align: right;\">158</td><td style = \"text-align: right;\">-65</td><td style = \"text-align: right;\">-78</td><td style = \"text-align: right;\">-89</td></tr></tbody></table></div>"
      ],
      "text/latex": [
       "\\begin{tabular}{r|cccc}\n",
       "\t& dist & 2G\\_Power & 3G\\_Power & 4G\\_Power\\\\\n",
       "\t\\hline\n",
       "\t& Int64 & Int64 & Int64 & Int64\\\\\n",
       "\t\\hline\n",
       "\t1 & 155 & -63 & -81 & -81 \\\\\n",
       "\t2 & 152 & -59 & -83 & -94 \\\\\n",
       "\t3 & 158 & -65 & -78 & -89 \\\\\n",
       "\\end{tabular}\n"
      ],
      "text/plain": [
       "\u001b[1m3×4 DataFrame\u001b[0m\n",
       "\u001b[1m Row \u001b[0m│\u001b[1m dist  \u001b[0m\u001b[1m 2G_Power \u001b[0m\u001b[1m 3G_Power \u001b[0m\u001b[1m 4G_Power \u001b[0m\n",
       "     │\u001b[90m Int64 \u001b[0m\u001b[90m Int64    \u001b[0m\u001b[90m Int64    \u001b[0m\u001b[90m Int64    \u001b[0m\n",
       "─────┼─────────────────────────────────────\n",
       "   1 │   155       -63       -81       -81\n",
       "   2 │   152       -59       -83       -94\n",
       "   3 │   158       -65       -78       -89"
      ]
     },
     "execution_count": 11,
     "metadata": {},
     "output_type": "execute_result"
    }
   ],
   "source": [
    "data = CSV.read(\"data.csv\", DataFrame)"
   ]
  },
  {
   "cell_type": "code",
   "execution_count": 17,
   "metadata": {},
   "outputs": [
    {
     "data": {
      "text/html": [
       "<div><div style = \"float: left;\"><span>3×5 DataFrame</span></div><div style = \"clear: both;\"></div></div><div class = \"data-frame\" style = \"overflow-x: scroll;\"><table class = \"data-frame\" style = \"margin-bottom: 6px;\"><thead><tr class = \"header\"><th class = \"rowNumber\" style = \"font-weight: bold; text-align: right;\">Row</th><th style = \"text-align: left;\">dist</th><th style = \"text-align: left;\">2G_Power</th><th style = \"text-align: left;\">3G_Power</th><th style = \"text-align: left;\">4G_Power</th><th style = \"text-align: left;\">true_dist</th></tr><tr class = \"subheader headerLastRow\"><th class = \"rowNumber\" style = \"font-weight: bold; text-align: right;\"></th><th title = \"Int64\" style = \"text-align: left;\">Int64</th><th title = \"Int64\" style = \"text-align: left;\">Int64</th><th title = \"Int64\" style = \"text-align: left;\">Int64</th><th title = \"Int64\" style = \"text-align: left;\">Int64</th><th title = \"Float64\" style = \"text-align: left;\">Float64</th></tr></thead><tbody><tr><td class = \"rowNumber\" style = \"font-weight: bold; text-align: right;\">1</td><td style = \"text-align: right;\">155</td><td style = \"text-align: right;\">-63</td><td style = \"text-align: right;\">-81</td><td style = \"text-align: right;\">-81</td><td style = \"text-align: right;\">156.416</td></tr><tr><td class = \"rowNumber\" style = \"font-weight: bold; text-align: right;\">2</td><td style = \"text-align: right;\">152</td><td style = \"text-align: right;\">-59</td><td style = \"text-align: right;\">-83</td><td style = \"text-align: right;\">-94</td><td style = \"text-align: right;\">153.444</td></tr><tr><td class = \"rowNumber\" style = \"font-weight: bold; text-align: right;\">3</td><td style = \"text-align: right;\">158</td><td style = \"text-align: right;\">-65</td><td style = \"text-align: right;\">-78</td><td style = \"text-align: right;\">-89</td><td style = \"text-align: right;\">159.389</td></tr></tbody></table></div>"
      ],
      "text/latex": [
       "\\begin{tabular}{r|ccccc}\n",
       "\t& dist & 2G\\_Power & 3G\\_Power & 4G\\_Power & true\\_dist\\\\\n",
       "\t\\hline\n",
       "\t& Int64 & Int64 & Int64 & Int64 & Float64\\\\\n",
       "\t\\hline\n",
       "\t1 & 155 & -63 & -81 & -81 & 156.416 \\\\\n",
       "\t2 & 152 & -59 & -83 & -94 & 153.444 \\\\\n",
       "\t3 & 158 & -65 & -78 & -89 & 159.389 \\\\\n",
       "\\end{tabular}\n"
      ],
      "text/plain": [
       "\u001b[1m3×5 DataFrame\u001b[0m\n",
       "\u001b[1m Row \u001b[0m│\u001b[1m dist  \u001b[0m\u001b[1m 2G_Power \u001b[0m\u001b[1m 3G_Power \u001b[0m\u001b[1m 4G_Power \u001b[0m\u001b[1m true_dist \u001b[0m\n",
       "     │\u001b[90m Int64 \u001b[0m\u001b[90m Int64    \u001b[0m\u001b[90m Int64    \u001b[0m\u001b[90m Int64    \u001b[0m\u001b[90m Float64   \u001b[0m\n",
       "─────┼────────────────────────────────────────────────\n",
       "   1 │   155       -63       -81       -81    156.416\n",
       "   2 │   152       -59       -83       -94    153.444\n",
       "   3 │   158       -65       -78       -89    159.389"
      ]
     },
     "execution_count": 17,
     "metadata": {},
     "output_type": "execute_result"
    }
   ],
   "source": [
    "height_measurement = 17#m\n",
    "height_antenna = 38#m\n",
    "data[:,\"true_dist\"] = data[:,\"dist\"] |>\n",
    "  Map() do dist_antenna\n",
    "    Distances.euclidean((0, height_measurement), (dist_antenna, height_antenna))\n",
    "  end |> collect\n",
    "data"
   ]
  },
  {
   "cell_type": "markdown",
   "metadata": {},
   "source": [
    "# Task"
   ]
  },
  {
   "cell_type": "markdown",
   "metadata": {},
   "source": [
    "## 2G\n",
    "\n",
    "Формула - *COST–Hata–Model*\n",
    "\n",
    "$$\n",
    "PL(d) = 46.3 + 33.9 \\cdot \\lg(f_C) − 13.82 \\cdot \\lg(h_{te}) − a(h_{re}) \n",
    "      + (44.9 − 6.55 \\cdot \\lg(h_{te})) \\cdot \\lg(d) + C_m \\\\\n",
    "\n",
    "a(h_{re}) = 3.2 \\cdot (\\lg(11.75 \\cdot h_{re}))^2 − 4.97\n",
    "$$\n",
    "\n",
    "Параметры:\n",
    " - $h_{te}$ -- эффективная высота базовой антенны в метрах (от $30$ до $200 м$)\n",
    " - $h_{re}$ -- эффективная высота мобильной антенны в метрах (от $1$ до $10 м$),\n",
    " - $f_C$ -- частота сигнала в МГц от $150$ до $1500 МГц$\n",
    " - $d$ -- расстояние от передатчика до приемника, $км$\n",
    " - $a(h_{re})$ -- корректирующий фактор для эффективной высоты мобильной антенны,\n",
    "   который является функцией величины зоны обслуживания. Используется версия \n",
    "   формулы для крупных городов (1.12) в методичке.\n",
    " - $C_m$ = $3 дБ$ для крупных городо"
   ]
  },
  {
   "cell_type": "code",
   "execution_count": 28,
   "metadata": {},
   "outputs": [
    {
     "data": {
      "text/plain": [
       "PL_2G (generic function with 1 method)"
      ]
     },
     "execution_count": 28,
     "metadata": {},
     "output_type": "execute_result"
    }
   ],
   "source": [
    "𝑎(h_re) = 3.2 * log10(11.75 * h_re)^2 - 4.97\n",
    "PL_2G(f_C, h_te, h_re, C_m, d) = 46.3 + 33.9 * log10(f_C) - 13.82 * log10(h_te) - \n",
    "    𝑎(h_re) + (44.9 - 6.55 * log10(h_te)) * log10(d) + C_m"
   ]
  },
  {
   "cell_type": "code",
   "execution_count": 32,
   "metadata": {},
   "outputs": [
    {
     "data": {
      "text/html": [
       "<div><div style = \"float: left;\"><span>3×6 DataFrame</span></div><div style = \"clear: both;\"></div></div><div class = \"data-frame\" style = \"overflow-x: scroll;\"><table class = \"data-frame\" style = \"margin-bottom: 6px;\"><thead><tr class = \"header\"><th class = \"rowNumber\" style = \"font-weight: bold; text-align: right;\">Row</th><th style = \"text-align: left;\">dist</th><th style = \"text-align: left;\">2G_Power</th><th style = \"text-align: left;\">3G_Power</th><th style = \"text-align: left;\">4G_Power</th><th style = \"text-align: left;\">true_dist</th><th style = \"text-align: left;\">2G_Attenuation</th></tr><tr class = \"subheader headerLastRow\"><th class = \"rowNumber\" style = \"font-weight: bold; text-align: right;\"></th><th title = \"Int64\" style = \"text-align: left;\">Int64</th><th title = \"Int64\" style = \"text-align: left;\">Int64</th><th title = \"Int64\" style = \"text-align: left;\">Int64</th><th title = \"Int64\" style = \"text-align: left;\">Int64</th><th title = \"Float64\" style = \"text-align: left;\">Float64</th><th title = \"Float64\" style = \"text-align: left;\">Float64</th></tr></thead><tbody><tr><td class = \"rowNumber\" style = \"font-weight: bold; text-align: right;\">1</td><td style = \"text-align: right;\">155</td><td style = \"text-align: right;\">-63</td><td style = \"text-align: right;\">-81</td><td style = \"text-align: right;\">-81</td><td style = \"text-align: right;\">156.416</td><td style = \"text-align: right;\">-64.8617</td></tr><tr><td class = \"rowNumber\" style = \"font-weight: bold; text-align: right;\">2</td><td style = \"text-align: right;\">152</td><td style = \"text-align: right;\">-59</td><td style = \"text-align: right;\">-83</td><td style = \"text-align: right;\">-94</td><td style = \"text-align: right;\">153.444</td><td style = \"text-align: right;\">-64.5682</td></tr><tr><td class = \"rowNumber\" style = \"font-weight: bold; text-align: right;\">3</td><td style = \"text-align: right;\">158</td><td style = \"text-align: right;\">-65</td><td style = \"text-align: right;\">-78</td><td style = \"text-align: right;\">-89</td><td style = \"text-align: right;\">159.389</td><td style = \"text-align: right;\">-65.1498</td></tr></tbody></table></div>"
      ],
      "text/latex": [
       "\\begin{tabular}{r|cccccc}\n",
       "\t& dist & 2G\\_Power & 3G\\_Power & 4G\\_Power & true\\_dist & 2G\\_Attenuation\\\\\n",
       "\t\\hline\n",
       "\t& Int64 & Int64 & Int64 & Int64 & Float64 & Float64\\\\\n",
       "\t\\hline\n",
       "\t1 & 155 & -63 & -81 & -81 & 156.416 & -64.8617 \\\\\n",
       "\t2 & 152 & -59 & -83 & -94 & 153.444 & -64.5682 \\\\\n",
       "\t3 & 158 & -65 & -78 & -89 & 159.389 & -65.1498 \\\\\n",
       "\\end{tabular}\n"
      ],
      "text/plain": [
       "\u001b[1m3×6 DataFrame\u001b[0m\n",
       "\u001b[1m Row \u001b[0m│\u001b[1m dist  \u001b[0m\u001b[1m 2G_Power \u001b[0m\u001b[1m 3G_Power \u001b[0m\u001b[1m 4G_Power \u001b[0m\u001b[1m true_dist \u001b[0m\u001b[1m 2G_Attenuation \u001b[0m\n",
       "     │\u001b[90m Int64 \u001b[0m\u001b[90m Int64    \u001b[0m\u001b[90m Int64    \u001b[0m\u001b[90m Int64    \u001b[0m\u001b[90m Float64   \u001b[0m\u001b[90m Float64        \u001b[0m\n",
       "─────┼────────────────────────────────────────────────────────────────\n",
       "   1 │   155       -63       -81       -81    156.416        -64.8617\n",
       "   2 │   152       -59       -83       -94    153.444        -64.5682\n",
       "   3 │   158       -65       -78       -89    159.389        -65.1498"
      ]
     },
     "execution_count": 32,
     "metadata": {},
     "output_type": "execute_result"
    }
   ],
   "source": [
    "f_C = 960; h_te = 30; h_re = 10; C_m = 3;\n",
    "data[:, \"2G_Attenuation\"] = data[:,\"true_dist\"] |>\n",
    "    Map() do dist\n",
    "        db = PL_2G(f_C, h_te, h_re, C_m, dist / 1000.0)\n",
    "        28 - db\n",
    "    end |> collect\n",
    "data"
   ]
  },
  {
   "cell_type": "code",
   "execution_count": 48,
   "metadata": {},
   "outputs": [
    {
     "data": {
      "text/html": [
       "<div><div style = \"float: left;\"><span>3×9 DataFrame</span></div><div style = \"clear: both;\"></div></div><div class = \"data-frame\" style = \"overflow-x: scroll;\"><table class = \"data-frame\" style = \"margin-bottom: 6px;\"><thead><tr class = \"header\"><th class = \"rowNumber\" style = \"font-weight: bold; text-align: right;\">Row</th><th style = \"text-align: left;\">dist</th><th style = \"text-align: left;\">2G_Power</th><th style = \"text-align: left;\">3G_Power</th><th style = \"text-align: left;\">4G_Power</th><th style = \"text-align: left;\">true_dist</th><th style = \"text-align: left;\">2G_Attenuation</th><th style = \"text-align: left;\">3G_Attenuation</th><th style = \"text-align: left;\">4G_Attenuation</th><th style = \"text-align: left;\">2G_prob</th></tr><tr class = \"subheader headerLastRow\"><th class = \"rowNumber\" style = \"font-weight: bold; text-align: right;\"></th><th title = \"Int64\" style = \"text-align: left;\">Int64</th><th title = \"Int64\" style = \"text-align: left;\">Int64</th><th title = \"Int64\" style = \"text-align: left;\">Int64</th><th title = \"Int64\" style = \"text-align: left;\">Int64</th><th title = \"Float64\" style = \"text-align: left;\">Float64</th><th title = \"Float64\" style = \"text-align: left;\">Float64</th><th title = \"Float64\" style = \"text-align: left;\">Float64</th><th title = \"Float64\" style = \"text-align: left;\">Float64</th><th title = \"Float64\" style = \"text-align: left;\">Float64</th></tr></thead><tbody><tr><td class = \"rowNumber\" style = \"font-weight: bold; text-align: right;\">1</td><td style = \"text-align: right;\">155</td><td style = \"text-align: right;\">-63</td><td style = \"text-align: right;\">-81</td><td style = \"text-align: right;\">-81</td><td style = \"text-align: right;\">156.416</td><td style = \"text-align: right;\">-64.8617</td><td style = \"text-align: right;\">-74.8284</td><td style = \"text-align: right;\">-72.5996</td><td style = \"text-align: right;\">1.0</td></tr><tr><td class = \"rowNumber\" style = \"font-weight: bold; text-align: right;\">2</td><td style = \"text-align: right;\">152</td><td style = \"text-align: right;\">-59</td><td style = \"text-align: right;\">-83</td><td style = \"text-align: right;\">-94</td><td style = \"text-align: right;\">153.444</td><td style = \"text-align: right;\">-64.5682</td><td style = \"text-align: right;\">-74.5785</td><td style = \"text-align: right;\">-72.2739</td><td style = \"text-align: right;\">1.0</td></tr><tr><td class = \"rowNumber\" style = \"font-weight: bold; text-align: right;\">3</td><td style = \"text-align: right;\">158</td><td style = \"text-align: right;\">-65</td><td style = \"text-align: right;\">-78</td><td style = \"text-align: right;\">-89</td><td style = \"text-align: right;\">159.389</td><td style = \"text-align: right;\">-65.1498</td><td style = \"text-align: right;\">-75.0738</td><td style = \"text-align: right;\">-72.9192</td><td style = \"text-align: right;\">1.0</td></tr></tbody></table></div>"
      ],
      "text/latex": [
       "\\begin{tabular}{r|cccccccc}\n",
       "\t& dist & 2G\\_Power & 3G\\_Power & 4G\\_Power & true\\_dist & 2G\\_Attenuation & 3G\\_Attenuation & \\\\\n",
       "\t\\hline\n",
       "\t& Int64 & Int64 & Int64 & Int64 & Float64 & Float64 & Float64 & \\\\\n",
       "\t\\hline\n",
       "\t1 & 155 & -63 & -81 & -81 & 156.416 & -64.8617 & -74.8284 & $\\dots$ \\\\\n",
       "\t2 & 152 & -59 & -83 & -94 & 153.444 & -64.5682 & -74.5785 & $\\dots$ \\\\\n",
       "\t3 & 158 & -65 & -78 & -89 & 159.389 & -65.1498 & -75.0738 & $\\dots$ \\\\\n",
       "\\end{tabular}\n"
      ],
      "text/plain": [
       "\u001b[1m3×9 DataFrame\u001b[0m\n",
       "\u001b[1m Row \u001b[0m│\u001b[1m dist  \u001b[0m\u001b[1m 2G_Power \u001b[0m\u001b[1m 3G_Power \u001b[0m\u001b[1m 4G_Power \u001b[0m\u001b[1m true_dist \u001b[0m\u001b[1m 2G_Attenuation \u001b[0m\u001b[1m 3G_Atte\u001b[0m ⋯\n",
       "     │\u001b[90m Int64 \u001b[0m\u001b[90m Int64    \u001b[0m\u001b[90m Int64    \u001b[0m\u001b[90m Int64    \u001b[0m\u001b[90m Float64   \u001b[0m\u001b[90m Float64        \u001b[0m\u001b[90m Float64\u001b[0m ⋯\n",
       "─────┼──────────────────────────────────────────────────────────────────────────\n",
       "   1 │   155       -63       -81       -81    156.416        -64.8617        - ⋯\n",
       "   2 │   152       -59       -83       -94    153.444        -64.5682        -\n",
       "   3 │   158       -65       -78       -89    159.389        -65.1498        -\n",
       "\u001b[36m                                                               3 columns omitted\u001b[0m"
      ]
     },
     "execution_count": 48,
     "metadata": {},
     "output_type": "execute_result"
    }
   ],
   "source": [
    "σ_2G = 12\n",
    "data[:, \"2G_prob\"] = data[:,\"2G_Power\"] |>\n",
    "    Map() do power\n",
    "        dist = Distributions.LogNormal(power, σ_2G)\n",
    "        Distributions.ccdf(dist, -100)\n",
    "    end |> collect\n",
    "data"
   ]
  },
  {
   "cell_type": "markdown",
   "metadata": {},
   "source": [
    "## 3G\n",
    "\n",
    "$$\n",
    "PL(d) = 37 + 30 \\cdot \\lg(d) + 18.3 \\cdot 𝑛^{(\\frac{𝑛+2}{𝑛+1} − 0.46)}\n",
    "$$\n",
    "\n",
    "Параметры:\n",
    " - $d$ – расстояние между передатчиком и приемником (м),\n",
    " - $n$ – количество этажей на пути."
   ]
  },
  {
   "cell_type": "code",
   "execution_count": 33,
   "metadata": {},
   "outputs": [
    {
     "data": {
      "text/plain": [
       "PL_3G (generic function with 1 method)"
      ]
     },
     "execution_count": 33,
     "metadata": {},
     "output_type": "execute_result"
    }
   ],
   "source": [
    "PL_3G(n, d) = 37 + 30 * log10(d) + 18.3 * n^((n + 2) / (n + 1) - 0.46)"
   ]
  },
  {
   "cell_type": "code",
   "execution_count": 35,
   "metadata": {},
   "outputs": [
    {
     "data": {
      "text/html": [
       "<div><div style = \"float: left;\"><span>3×7 DataFrame</span></div><div style = \"clear: both;\"></div></div><div class = \"data-frame\" style = \"overflow-x: scroll;\"><table class = \"data-frame\" style = \"margin-bottom: 6px;\"><thead><tr class = \"header\"><th class = \"rowNumber\" style = \"font-weight: bold; text-align: right;\">Row</th><th style = \"text-align: left;\">dist</th><th style = \"text-align: left;\">2G_Power</th><th style = \"text-align: left;\">3G_Power</th><th style = \"text-align: left;\">4G_Power</th><th style = \"text-align: left;\">true_dist</th><th style = \"text-align: left;\">2G_Attenuation</th><th style = \"text-align: left;\">3G_Attenuation</th></tr><tr class = \"subheader headerLastRow\"><th class = \"rowNumber\" style = \"font-weight: bold; text-align: right;\"></th><th title = \"Int64\" style = \"text-align: left;\">Int64</th><th title = \"Int64\" style = \"text-align: left;\">Int64</th><th title = \"Int64\" style = \"text-align: left;\">Int64</th><th title = \"Int64\" style = \"text-align: left;\">Int64</th><th title = \"Float64\" style = \"text-align: left;\">Float64</th><th title = \"Float64\" style = \"text-align: left;\">Float64</th><th title = \"Float64\" style = \"text-align: left;\">Float64</th></tr></thead><tbody><tr><td class = \"rowNumber\" style = \"font-weight: bold; text-align: right;\">1</td><td style = \"text-align: right;\">155</td><td style = \"text-align: right;\">-63</td><td style = \"text-align: right;\">-81</td><td style = \"text-align: right;\">-81</td><td style = \"text-align: right;\">156.416</td><td style = \"text-align: right;\">-64.8617</td><td style = \"text-align: right;\">-74.8284</td></tr><tr><td class = \"rowNumber\" style = \"font-weight: bold; text-align: right;\">2</td><td style = \"text-align: right;\">152</td><td style = \"text-align: right;\">-59</td><td style = \"text-align: right;\">-83</td><td style = \"text-align: right;\">-94</td><td style = \"text-align: right;\">153.444</td><td style = \"text-align: right;\">-64.5682</td><td style = \"text-align: right;\">-74.5785</td></tr><tr><td class = \"rowNumber\" style = \"font-weight: bold; text-align: right;\">3</td><td style = \"text-align: right;\">158</td><td style = \"text-align: right;\">-65</td><td style = \"text-align: right;\">-78</td><td style = \"text-align: right;\">-89</td><td style = \"text-align: right;\">159.389</td><td style = \"text-align: right;\">-65.1498</td><td style = \"text-align: right;\">-75.0738</td></tr></tbody></table></div>"
      ],
      "text/latex": [
       "\\begin{tabular}{r|ccccccc}\n",
       "\t& dist & 2G\\_Power & 3G\\_Power & 4G\\_Power & true\\_dist & 2G\\_Attenuation & 3G\\_Attenuation\\\\\n",
       "\t\\hline\n",
       "\t& Int64 & Int64 & Int64 & Int64 & Float64 & Float64 & Float64\\\\\n",
       "\t\\hline\n",
       "\t1 & 155 & -63 & -81 & -81 & 156.416 & -64.8617 & -74.8284 \\\\\n",
       "\t2 & 152 & -59 & -83 & -94 & 153.444 & -64.5682 & -74.5785 \\\\\n",
       "\t3 & 158 & -65 & -78 & -89 & 159.389 & -65.1498 & -75.0738 \\\\\n",
       "\\end{tabular}\n"
      ],
      "text/plain": [
       "\u001b[1m3×7 DataFrame\u001b[0m\n",
       "\u001b[1m Row \u001b[0m│\u001b[1m dist  \u001b[0m\u001b[1m 2G_Power \u001b[0m\u001b[1m 3G_Power \u001b[0m\u001b[1m 4G_Power \u001b[0m\u001b[1m true_dist \u001b[0m\u001b[1m 2G_Attenuation \u001b[0m\u001b[1m 3G_Atte\u001b[0m ⋯\n",
       "     │\u001b[90m Int64 \u001b[0m\u001b[90m Int64    \u001b[0m\u001b[90m Int64    \u001b[0m\u001b[90m Int64    \u001b[0m\u001b[90m Float64   \u001b[0m\u001b[90m Float64        \u001b[0m\u001b[90m Float64\u001b[0m ⋯\n",
       "─────┼──────────────────────────────────────────────────────────────────────────\n",
       "   1 │   155       -63       -81       -81    156.416        -64.8617        - ⋯\n",
       "   2 │   152       -59       -83       -94    153.444        -64.5682        -\n",
       "   3 │   158       -65       -78       -89    159.389        -65.1498        -\n",
       "\u001b[36m                                                                1 column omitted\u001b[0m"
      ]
     },
     "execution_count": 35,
     "metadata": {},
     "output_type": "execute_result"
    }
   ],
   "source": [
    "n = 0;\n",
    "data[:, \"3G_Attenuation\"] = data[:,\"true_dist\"] |>\n",
    "    Map() do dist\n",
    "        db = PL_3G(n, dist)\n",
    "        28 - db\n",
    "    end |> collect\n",
    "data"
   ]
  },
  {
   "cell_type": "code",
   "execution_count": 49,
   "metadata": {},
   "outputs": [
    {
     "data": {
      "text/html": [
       "<div><div style = \"float: left;\"><span>3×10 DataFrame</span></div><div style = \"clear: both;\"></div></div><div class = \"data-frame\" style = \"overflow-x: scroll;\"><table class = \"data-frame\" style = \"margin-bottom: 6px;\"><thead><tr class = \"header\"><th class = \"rowNumber\" style = \"font-weight: bold; text-align: right;\">Row</th><th style = \"text-align: left;\">dist</th><th style = \"text-align: left;\">2G_Power</th><th style = \"text-align: left;\">3G_Power</th><th style = \"text-align: left;\">4G_Power</th><th style = \"text-align: left;\">true_dist</th><th style = \"text-align: left;\">2G_Attenuation</th><th style = \"text-align: left;\">3G_Attenuation</th><th style = \"text-align: left;\">4G_Attenuation</th><th style = \"text-align: left;\">2G_prob</th><th style = \"text-align: left;\">3G_prob</th></tr><tr class = \"subheader headerLastRow\"><th class = \"rowNumber\" style = \"font-weight: bold; text-align: right;\"></th><th title = \"Int64\" style = \"text-align: left;\">Int64</th><th title = \"Int64\" style = \"text-align: left;\">Int64</th><th title = \"Int64\" style = \"text-align: left;\">Int64</th><th title = \"Int64\" style = \"text-align: left;\">Int64</th><th title = \"Float64\" style = \"text-align: left;\">Float64</th><th title = \"Float64\" style = \"text-align: left;\">Float64</th><th title = \"Float64\" style = \"text-align: left;\">Float64</th><th title = \"Float64\" style = \"text-align: left;\">Float64</th><th title = \"Float64\" style = \"text-align: left;\">Float64</th><th title = \"Float64\" style = \"text-align: left;\">Float64</th></tr></thead><tbody><tr><td class = \"rowNumber\" style = \"font-weight: bold; text-align: right;\">1</td><td style = \"text-align: right;\">155</td><td style = \"text-align: right;\">-63</td><td style = \"text-align: right;\">-81</td><td style = \"text-align: right;\">-81</td><td style = \"text-align: right;\">156.416</td><td style = \"text-align: right;\">-64.8617</td><td style = \"text-align: right;\">-74.8284</td><td style = \"text-align: right;\">-72.5996</td><td style = \"text-align: right;\">1.0</td><td style = \"text-align: right;\">1.0</td></tr><tr><td class = \"rowNumber\" style = \"font-weight: bold; text-align: right;\">2</td><td style = \"text-align: right;\">152</td><td style = \"text-align: right;\">-59</td><td style = \"text-align: right;\">-83</td><td style = \"text-align: right;\">-94</td><td style = \"text-align: right;\">153.444</td><td style = \"text-align: right;\">-64.5682</td><td style = \"text-align: right;\">-74.5785</td><td style = \"text-align: right;\">-72.2739</td><td style = \"text-align: right;\">1.0</td><td style = \"text-align: right;\">1.0</td></tr><tr><td class = \"rowNumber\" style = \"font-weight: bold; text-align: right;\">3</td><td style = \"text-align: right;\">158</td><td style = \"text-align: right;\">-65</td><td style = \"text-align: right;\">-78</td><td style = \"text-align: right;\">-89</td><td style = \"text-align: right;\">159.389</td><td style = \"text-align: right;\">-65.1498</td><td style = \"text-align: right;\">-75.0738</td><td style = \"text-align: right;\">-72.9192</td><td style = \"text-align: right;\">1.0</td><td style = \"text-align: right;\">1.0</td></tr></tbody></table></div>"
      ],
      "text/latex": [
       "\\begin{tabular}{r|cccccccc}\n",
       "\t& dist & 2G\\_Power & 3G\\_Power & 4G\\_Power & true\\_dist & 2G\\_Attenuation & 3G\\_Attenuation & \\\\\n",
       "\t\\hline\n",
       "\t& Int64 & Int64 & Int64 & Int64 & Float64 & Float64 & Float64 & \\\\\n",
       "\t\\hline\n",
       "\t1 & 155 & -63 & -81 & -81 & 156.416 & -64.8617 & -74.8284 & $\\dots$ \\\\\n",
       "\t2 & 152 & -59 & -83 & -94 & 153.444 & -64.5682 & -74.5785 & $\\dots$ \\\\\n",
       "\t3 & 158 & -65 & -78 & -89 & 159.389 & -65.1498 & -75.0738 & $\\dots$ \\\\\n",
       "\\end{tabular}\n"
      ],
      "text/plain": [
       "\u001b[1m3×10 DataFrame\u001b[0m\n",
       "\u001b[1m Row \u001b[0m│\u001b[1m dist  \u001b[0m\u001b[1m 2G_Power \u001b[0m\u001b[1m 3G_Power \u001b[0m\u001b[1m 4G_Power \u001b[0m\u001b[1m true_dist \u001b[0m\u001b[1m 2G_Attenuation \u001b[0m\u001b[1m 3G_Atte\u001b[0m ⋯\n",
       "     │\u001b[90m Int64 \u001b[0m\u001b[90m Int64    \u001b[0m\u001b[90m Int64    \u001b[0m\u001b[90m Int64    \u001b[0m\u001b[90m Float64   \u001b[0m\u001b[90m Float64        \u001b[0m\u001b[90m Float64\u001b[0m ⋯\n",
       "─────┼──────────────────────────────────────────────────────────────────────────\n",
       "   1 │   155       -63       -81       -81    156.416        -64.8617        - ⋯\n",
       "   2 │   152       -59       -83       -94    153.444        -64.5682        -\n",
       "   3 │   158       -65       -78       -89    159.389        -65.1498        -\n",
       "\u001b[36m                                                               4 columns omitted\u001b[0m"
      ]
     },
     "execution_count": 49,
     "metadata": {},
     "output_type": "execute_result"
    }
   ],
   "source": [
    "σ_3G = 12\n",
    "data[:, \"3G_prob\"] = data[:,\"3G_Power\"] |>\n",
    "    Map() do power\n",
    "        dist = Distributions.LogNormal(power, σ_3G)\n",
    "        Distributions.ccdf(dist, -100)\n",
    "    end |> collect\n",
    "data"
   ]
  },
  {
   "cell_type": "markdown",
   "metadata": {},
   "source": [
    "## 4G\n",
    "\n",
    "$$\n",
    "PL_{3D-UMa-NLOS} = 161.04 – 7.1 \\lg(W) + 7.5 \\lg(h) – (24.37 – 3.7 (\\frac{h}{h_{BS}})^2) \\\\\n",
    "    \\lg(h_{BS}) + (43.42 – 3.1 \\lg(h_{BS})) (\\lg(d_{3D}) - 3) + 20 \\lg(f_C) –  \\\\\n",
    "    (3.2 (\\lg(17.625))^2 - 4.97) – 0.6(h_{UT} - 1.5)\n",
    "$$\n",
    "\n",
    "Параметры:\n",
    " - $f_C$ – частота сигнала в ГГц\n",
    " - $h$ – средняя высота зданий в диапазоне $5 м < h < 50 м$, типовое значение $h = 20 м$,\n",
    " - $W$ – ширина улицы в диапазоне $5 м < W < 50 м$, типовое значение $W = 20 м$\n",
    " - $h_{BS}$ и $h_{UT}$ – действительные высоты антенн; типовое значение \n",
    "   $h_{BS} = 25 м$ и $10 м < h_{BS} < 150 м$,"
   ]
  },
  {
   "cell_type": "code",
   "execution_count": 37,
   "metadata": {},
   "outputs": [
    {
     "data": {
      "text/plain": [
       "PL_4G (generic function with 1 method)"
      ]
     },
     "execution_count": 37,
     "metadata": {},
     "output_type": "execute_result"
    }
   ],
   "source": [
    "PL_4G(W, h, hBS, d3D, fc, hUT) = 161.04 - 7.1 * log10(W) + 7.5 * log10(h) - \n",
    "    (24.37 - 3.7* (h / hBS)^2) * log10(hBS) + (43.42 - 3.1 * log10(hBS)) * \n",
    "    (log10(d3D) - 3) + 20 * log10(fc) - (3.2 * log10(17.625)^2 - 4.97) -\n",
    "    0.6 * (hUT - 1.5)"
   ]
  },
  {
   "cell_type": "code",
   "execution_count": 41,
   "metadata": {},
   "outputs": [
    {
     "data": {
      "text/html": [
       "<div><div style = \"float: left;\"><span>3×8 DataFrame</span></div><div style = \"clear: both;\"></div></div><div class = \"data-frame\" style = \"overflow-x: scroll;\"><table class = \"data-frame\" style = \"margin-bottom: 6px;\"><thead><tr class = \"header\"><th class = \"rowNumber\" style = \"font-weight: bold; text-align: right;\">Row</th><th style = \"text-align: left;\">dist</th><th style = \"text-align: left;\">2G_Power</th><th style = \"text-align: left;\">3G_Power</th><th style = \"text-align: left;\">4G_Power</th><th style = \"text-align: left;\">true_dist</th><th style = \"text-align: left;\">2G_Attenuation</th><th style = \"text-align: left;\">3G_Attenuation</th><th style = \"text-align: left;\">4G_Attenuation</th></tr><tr class = \"subheader headerLastRow\"><th class = \"rowNumber\" style = \"font-weight: bold; text-align: right;\"></th><th title = \"Int64\" style = \"text-align: left;\">Int64</th><th title = \"Int64\" style = \"text-align: left;\">Int64</th><th title = \"Int64\" style = \"text-align: left;\">Int64</th><th title = \"Int64\" style = \"text-align: left;\">Int64</th><th title = \"Float64\" style = \"text-align: left;\">Float64</th><th title = \"Float64\" style = \"text-align: left;\">Float64</th><th title = \"Float64\" style = \"text-align: left;\">Float64</th><th title = \"Float64\" style = \"text-align: left;\">Float64</th></tr></thead><tbody><tr><td class = \"rowNumber\" style = \"font-weight: bold; text-align: right;\">1</td><td style = \"text-align: right;\">155</td><td style = \"text-align: right;\">-63</td><td style = \"text-align: right;\">-81</td><td style = \"text-align: right;\">-81</td><td style = \"text-align: right;\">156.416</td><td style = \"text-align: right;\">-64.8617</td><td style = \"text-align: right;\">-74.8284</td><td style = \"text-align: right;\">-72.5996</td></tr><tr><td class = \"rowNumber\" style = \"font-weight: bold; text-align: right;\">2</td><td style = \"text-align: right;\">152</td><td style = \"text-align: right;\">-59</td><td style = \"text-align: right;\">-83</td><td style = \"text-align: right;\">-94</td><td style = \"text-align: right;\">153.444</td><td style = \"text-align: right;\">-64.5682</td><td style = \"text-align: right;\">-74.5785</td><td style = \"text-align: right;\">-72.2739</td></tr><tr><td class = \"rowNumber\" style = \"font-weight: bold; text-align: right;\">3</td><td style = \"text-align: right;\">158</td><td style = \"text-align: right;\">-65</td><td style = \"text-align: right;\">-78</td><td style = \"text-align: right;\">-89</td><td style = \"text-align: right;\">159.389</td><td style = \"text-align: right;\">-65.1498</td><td style = \"text-align: right;\">-75.0738</td><td style = \"text-align: right;\">-72.9192</td></tr></tbody></table></div>"
      ],
      "text/latex": [
       "\\begin{tabular}{r|cccccccc}\n",
       "\t& dist & 2G\\_Power & 3G\\_Power & 4G\\_Power & true\\_dist & 2G\\_Attenuation & 3G\\_Attenuation & \\\\\n",
       "\t\\hline\n",
       "\t& Int64 & Int64 & Int64 & Int64 & Float64 & Float64 & Float64 & \\\\\n",
       "\t\\hline\n",
       "\t1 & 155 & -63 & -81 & -81 & 156.416 & -64.8617 & -74.8284 & $\\dots$ \\\\\n",
       "\t2 & 152 & -59 & -83 & -94 & 153.444 & -64.5682 & -74.5785 & $\\dots$ \\\\\n",
       "\t3 & 158 & -65 & -78 & -89 & 159.389 & -65.1498 & -75.0738 & $\\dots$ \\\\\n",
       "\\end{tabular}\n"
      ],
      "text/plain": [
       "\u001b[1m3×8 DataFrame\u001b[0m\n",
       "\u001b[1m Row \u001b[0m│\u001b[1m dist  \u001b[0m\u001b[1m 2G_Power \u001b[0m\u001b[1m 3G_Power \u001b[0m\u001b[1m 4G_Power \u001b[0m\u001b[1m true_dist \u001b[0m\u001b[1m 2G_Attenuation \u001b[0m\u001b[1m 3G_Atte\u001b[0m ⋯\n",
       "     │\u001b[90m Int64 \u001b[0m\u001b[90m Int64    \u001b[0m\u001b[90m Int64    \u001b[0m\u001b[90m Int64    \u001b[0m\u001b[90m Float64   \u001b[0m\u001b[90m Float64        \u001b[0m\u001b[90m Float64\u001b[0m ⋯\n",
       "─────┼──────────────────────────────────────────────────────────────────────────\n",
       "   1 │   155       -63       -81       -81    156.416        -64.8617        - ⋯\n",
       "   2 │   152       -59       -83       -94    153.444        -64.5682        -\n",
       "   3 │   158       -65       -78       -89    159.389        -65.1498        -\n",
       "\u001b[36m                                                               2 columns omitted\u001b[0m"
      ]
     },
     "execution_count": 41,
     "metadata": {},
     "output_type": "execute_result"
    }
   ],
   "source": [
    "W = 20; h = 25; hBS = 25; fc = 2.6; hUT = 17.5\n",
    "data[:, \"4G_Attenuation\"] = data[:,\"true_dist\"] |>\n",
    "    Map() do dist\n",
    "        db = PL_4G(W, h, hBS, dist, fc, hUT)\n",
    "        28 - db\n",
    "    end |> collect\n",
    "data"
   ]
  },
  {
   "cell_type": "code",
   "execution_count": 50,
   "metadata": {},
   "outputs": [
    {
     "data": {
      "text/html": [
       "<div><div style = \"float: left;\"><span>3×11 DataFrame</span></div><div style = \"clear: both;\"></div></div><div class = \"data-frame\" style = \"overflow-x: scroll;\"><table class = \"data-frame\" style = \"margin-bottom: 6px;\"><thead><tr class = \"header\"><th class = \"rowNumber\" style = \"font-weight: bold; text-align: right;\">Row</th><th style = \"text-align: left;\">dist</th><th style = \"text-align: left;\">2G_Power</th><th style = \"text-align: left;\">3G_Power</th><th style = \"text-align: left;\">4G_Power</th><th style = \"text-align: left;\">true_dist</th><th style = \"text-align: left;\">2G_Attenuation</th><th style = \"text-align: left;\">3G_Attenuation</th><th style = \"text-align: left;\">4G_Attenuation</th><th style = \"text-align: left;\">2G_prob</th><th style = \"text-align: left;\">3G_prob</th><th style = \"text-align: left;\">4G_prob</th></tr><tr class = \"subheader headerLastRow\"><th class = \"rowNumber\" style = \"font-weight: bold; text-align: right;\"></th><th title = \"Int64\" style = \"text-align: left;\">Int64</th><th title = \"Int64\" style = \"text-align: left;\">Int64</th><th title = \"Int64\" style = \"text-align: left;\">Int64</th><th title = \"Int64\" style = \"text-align: left;\">Int64</th><th title = \"Float64\" style = \"text-align: left;\">Float64</th><th title = \"Float64\" style = \"text-align: left;\">Float64</th><th title = \"Float64\" style = \"text-align: left;\">Float64</th><th title = \"Float64\" style = \"text-align: left;\">Float64</th><th title = \"Float64\" style = \"text-align: left;\">Float64</th><th title = \"Float64\" style = \"text-align: left;\">Float64</th><th title = \"Float64\" style = \"text-align: left;\">Float64</th></tr></thead><tbody><tr><td class = \"rowNumber\" style = \"font-weight: bold; text-align: right;\">1</td><td style = \"text-align: right;\">155</td><td style = \"text-align: right;\">-63</td><td style = \"text-align: right;\">-81</td><td style = \"text-align: right;\">-81</td><td style = \"text-align: right;\">156.416</td><td style = \"text-align: right;\">-64.8617</td><td style = \"text-align: right;\">-74.8284</td><td style = \"text-align: right;\">-72.5996</td><td style = \"text-align: right;\">1.0</td><td style = \"text-align: right;\">1.0</td><td style = \"text-align: right;\">1.0</td></tr><tr><td class = \"rowNumber\" style = \"font-weight: bold; text-align: right;\">2</td><td style = \"text-align: right;\">152</td><td style = \"text-align: right;\">-59</td><td style = \"text-align: right;\">-83</td><td style = \"text-align: right;\">-94</td><td style = \"text-align: right;\">153.444</td><td style = \"text-align: right;\">-64.5682</td><td style = \"text-align: right;\">-74.5785</td><td style = \"text-align: right;\">-72.2739</td><td style = \"text-align: right;\">1.0</td><td style = \"text-align: right;\">1.0</td><td style = \"text-align: right;\">1.0</td></tr><tr><td class = \"rowNumber\" style = \"font-weight: bold; text-align: right;\">3</td><td style = \"text-align: right;\">158</td><td style = \"text-align: right;\">-65</td><td style = \"text-align: right;\">-78</td><td style = \"text-align: right;\">-89</td><td style = \"text-align: right;\">159.389</td><td style = \"text-align: right;\">-65.1498</td><td style = \"text-align: right;\">-75.0738</td><td style = \"text-align: right;\">-72.9192</td><td style = \"text-align: right;\">1.0</td><td style = \"text-align: right;\">1.0</td><td style = \"text-align: right;\">1.0</td></tr></tbody></table></div>"
      ],
      "text/latex": [
       "\\begin{tabular}{r|cccccccc}\n",
       "\t& dist & 2G\\_Power & 3G\\_Power & 4G\\_Power & true\\_dist & 2G\\_Attenuation & 3G\\_Attenuation & \\\\\n",
       "\t\\hline\n",
       "\t& Int64 & Int64 & Int64 & Int64 & Float64 & Float64 & Float64 & \\\\\n",
       "\t\\hline\n",
       "\t1 & 155 & -63 & -81 & -81 & 156.416 & -64.8617 & -74.8284 & $\\dots$ \\\\\n",
       "\t2 & 152 & -59 & -83 & -94 & 153.444 & -64.5682 & -74.5785 & $\\dots$ \\\\\n",
       "\t3 & 158 & -65 & -78 & -89 & 159.389 & -65.1498 & -75.0738 & $\\dots$ \\\\\n",
       "\\end{tabular}\n"
      ],
      "text/plain": [
       "\u001b[1m3×11 DataFrame\u001b[0m\n",
       "\u001b[1m Row \u001b[0m│\u001b[1m dist  \u001b[0m\u001b[1m 2G_Power \u001b[0m\u001b[1m 3G_Power \u001b[0m\u001b[1m 4G_Power \u001b[0m\u001b[1m true_dist \u001b[0m\u001b[1m 2G_Attenuation \u001b[0m\u001b[1m 3G_Atte\u001b[0m ⋯\n",
       "     │\u001b[90m Int64 \u001b[0m\u001b[90m Int64    \u001b[0m\u001b[90m Int64    \u001b[0m\u001b[90m Int64    \u001b[0m\u001b[90m Float64   \u001b[0m\u001b[90m Float64        \u001b[0m\u001b[90m Float64\u001b[0m ⋯\n",
       "─────┼──────────────────────────────────────────────────────────────────────────\n",
       "   1 │   155       -63       -81       -81    156.416        -64.8617        - ⋯\n",
       "   2 │   152       -59       -83       -94    153.444        -64.5682        -\n",
       "   3 │   158       -65       -78       -89    159.389        -65.1498        -\n",
       "\u001b[36m                                                               5 columns omitted\u001b[0m"
      ]
     },
     "execution_count": 50,
     "metadata": {},
     "output_type": "execute_result"
    }
   ],
   "source": [
    "σ_4G = 6\n",
    "data[:, \"4G_prob\"] = data[:,\"4G_Power\"] |>\n",
    "    Map() do power\n",
    "        dist = Distributions.LogNormal(power, σ_4G)\n",
    "        Distributions.ccdf(dist, -100)\n",
    "    end |> collect\n",
    "data"
   ]
  },
  {
   "cell_type": "markdown",
   "metadata": {},
   "source": [
    "## Wi-Fi"
   ]
  },
  {
   "cell_type": "code",
   "execution_count": null,
   "metadata": {},
   "outputs": [],
   "source": []
  }
 ],
 "metadata": {
  "kernelspec": {
   "display_name": "Julia 1.9.0",
   "language": "julia",
   "name": "julia-1.9"
  },
  "language_info": {
   "file_extension": ".jl",
   "mimetype": "application/julia",
   "name": "julia",
   "version": "1.9.3"
  },
  "orig_nbformat": 4
 },
 "nbformat": 4,
 "nbformat_minor": 2
}
