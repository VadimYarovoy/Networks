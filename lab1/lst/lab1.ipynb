{
 "cells": [
  {
   "cell_type": "code",
   "execution_count": 2,
   "metadata": {},
   "outputs": [],
   "source": [
    "from math import log10, pow, sqrt, pi"
   ]
  },
  {
   "cell_type": "markdown",
   "metadata": {},
   "source": [
    "#### расстояние до базовых станций:\n",
    "- ha – высота антены,\n",
    "- hm – твоя высота.\n",
    "- d - расстояние между"
   ]
  },
  {
   "cell_type": "code",
   "execution_count": 3,
   "metadata": {},
   "outputs": [],
   "source": [
    "def d3d(ha, hm, d):\n",
    "    if ha >= hm:\n",
    "        return sqrt(pow((ha - hm), 2) + pow(d, 2))\n",
    "    else:\n",
    "        return sqrt(pow((hm - ha), 2) + pow(d, 2))"
   ]
  },
  {
   "cell_type": "code",
   "execution_count": 4,
   "metadata": {},
   "outputs": [
    {
     "data": {
      "text/plain": [
       "[156.41611170208776, 153.44380078712857, 159.38946012832844]"
      ]
     },
     "execution_count": 4,
     "metadata": {},
     "output_type": "execute_result"
    }
   ],
   "source": [
    "d_list = [155, 152, 158]\n",
    "ha = 38\n",
    "hm = 17\n",
    "\n",
    "dist3d = []\n",
    "\n",
    "for d in d_list:\n",
    "    dist3d.append(d3d(ha, hm, d))\n",
    "\n",
    "\n",
    "dist3d"
   ]
  },
  {
   "cell_type": "markdown",
   "metadata": {},
   "source": [
    "#### Переводы единиц"
   ]
  },
  {
   "cell_type": "code",
   "execution_count": 5,
   "metadata": {},
   "outputs": [],
   "source": [
    "def db_to_dbm(db):\n",
    "    return db + 30\n",
    "\n",
    "def dbm_to_db(db):\n",
    "    return db - 30"
   ]
  },
  {
   "cell_type": "markdown",
   "metadata": {},
   "source": [
    "#### 2G\n",
    "Формула - *COST–Hata–Model*\n",
    "\n",
    "Параметры:\n",
    "- hte – эффективная высота базовой антенны в метрах (от 30 до 200 м)\n",
    "- hre – эффективная высота мобильной антенны в метрах (от 1 до 10 м),\n",
    "- fc – частота сигнала в МГц от 150 до 1500 МГц\n",
    "- d – расстояние от передатчика до приемника, км\n",
    "\n",
    "_a(hre)_ – корректирующий фактор для эффективной высоты\n",
    "мобильной антенны, который является функцией величины зоны\n",
    "обслуживания. Используется версия формулы для крупных городов (1.12) в методичке"
   ]
  },
  {
   "cell_type": "code",
   "execution_count": 6,
   "metadata": {},
   "outputs": [],
   "source": [
    "def PLg2(fc, hte, hre, d, Cm):\n",
    "    return 46.3  + 33.9 * log10(fc) - 13.82 * log10(hte) - a(hre)\\\n",
    "           + (44.9 - 6.55 * log10(hte)) * log10(d) + Cm\n",
    "\n",
    "def a(hre):\n",
    "    return 3.2 * pow((log10(11.75 * hre)), 2) - 4.97"
   ]
  },
  {
   "cell_type": "markdown",
   "metadata": {},
   "source": [
    "Вычисление затухания"
   ]
  },
  {
   "cell_type": "code",
   "execution_count": 7,
   "metadata": {},
   "outputs": [
    {
     "name": "stdout",
     "output_type": "stream",
     "text": [
      "2G 1: -64.86167893160236 dBm\n",
      "2G 2: -64.56818056129211 dBm\n",
      "2G 3: -65.14975181514485 dBm\n"
     ]
    }
   ],
   "source": [
    "\n",
    "for (i, dst) in enumerate(dist3d, start=1):\n",
    "    print(f\"2G {i}:\",\n",
    "           43 - db_to_dbm(PLg2(fc=960, hte=30, hre=10, d= dst / 1000, Cm=3) - 15), \"dBm\")\n"
   ]
  },
  {
   "cell_type": "markdown",
   "metadata": {},
   "source": [
    "#### 3G\n",
    "- d – расстояние между передатчиком и приемником (м),\n",
    "- n – количество этажей на пути."
   ]
  },
  {
   "cell_type": "code",
   "execution_count": 8,
   "metadata": {},
   "outputs": [],
   "source": [
    "def PLg3(n, d):\n",
    "    return 37 + 30 * log10(d) + 18.3 * pow(n, ((n + 2) / (n + 1) - 0.46))"
   ]
  },
  {
   "cell_type": "markdown",
   "metadata": {},
   "source": [
    "Расчет"
   ]
  },
  {
   "cell_type": "code",
   "execution_count": 9,
   "metadata": {},
   "outputs": [
    {
     "name": "stdout",
     "output_type": "stream",
     "text": [
      "3G 1: -74.82844457097113 dBm\n",
      "3G 2: -74.57848042168112 dBm\n",
      "3G 3: -75.07378798869472 dBm\n"
     ]
    }
   ],
   "source": [
    "\n",
    "for (i, dst) in enumerate(dist3d, start=1):\n",
    "    print(f\"3G {i}:\",\n",
    "           43 - db_to_dbm(PLg3(n=0, d=dst) - 15), \"dBm\")\n",
    "    "
   ]
  },
  {
   "cell_type": "markdown",
   "metadata": {},
   "source": [
    "#### 4G\n",
    "- fc – частота сигнала в ГГц\n",
    "- h – средняя высота зданий в диапазоне 5 м < h < 50 м, типовое значение h = 20 м,\n",
    "- W – ширина улицы в диапазоне 5 м < W < 50 м, типовое значение W = 20 м\n",
    "- hBS и hUT – действительные высоты антенн\n",
    "- типовое значение hBS = 25 м и 10 м < hBS < 150 м,"
   ]
  },
  {
   "cell_type": "code",
   "execution_count": 10,
   "metadata": {},
   "outputs": [],
   "source": [
    "def PLg4(W, h, hBS, d3D, fc, hUT):\n",
    "    return 161.04 - 7.1 * log10(W) + 7.5 * log10(h)- (24.37 - 3.7* pow((h / hBS),2)) * log10(hBS)\\\n",
    "           + (43.42 - 3.1 * log10(hBS)) * (log10(d3D) - 3) + 20 * log10(fc)\\\n",
    "           - (3.2 * pow(log10(17.625),2) - 4.97) - 0.6 * (hUT - 1.5)\n"
   ]
  },
  {
   "cell_type": "markdown",
   "metadata": {},
   "source": [
    "Расчет"
   ]
  },
  {
   "cell_type": "code",
   "execution_count": 11,
   "metadata": {},
   "outputs": [
    {
     "name": "stdout",
     "output_type": "stream",
     "text": [
      "4G 1: -72.59957828729232 dBm\n",
      "4G 2: -72.27390511333927 dBm\n",
      "4G 3: -72.91923120466257 dBm\n"
     ]
    }
   ],
   "source": [
    "for (i, dst) in enumerate(dist3d, start=1):\n",
    "    print(f\"4G {i}:\",\n",
    "           43 - db_to_dbm(PLg4(W=20, h=25, hBS=25, d3D=dst, fc=2.6, hUT=17.5) - 15), \"dBm\")\n",
    "    # print(PLg4(W=20, h=20, hBS=25, d3D=155, fc=2.6, hUT=22.5))"
   ]
  },
  {
   "cell_type": "markdown",
   "metadata": {},
   "source": [
    "#### WiFi"
   ]
  },
  {
   "cell_type": "code",
   "execution_count": 12,
   "metadata": {},
   "outputs": [],
   "source": [
    "def PLwf(d, fc):\n",
    "    return - 20 * log10 (lm(fc) / (4 * pi * d))\n",
    "\n",
    "def lm(fc):\n",
    "    return 299_792_458 / fc"
   ]
  },
  {
   "cell_type": "markdown",
   "metadata": {},
   "source": [
    "Расчет\n",
    "- Мощность передатчика точки доступа WiFi 20 дБм\n",
    "-  Коэффициент усиления антенны точки доступа и WiFi\n",
    "телефона 0 дБ"
   ]
  },
  {
   "cell_type": "code",
   "execution_count": 14,
   "metadata": {},
   "outputs": [
    {
     "name": "stdout",
     "output_type": "stream",
     "text": [
      "Wifi 1: -53.406583395324134 dBm\n",
      "Wifi 2: -74.99020831627664 dBm\n",
      "Wifi 3: -67.38598348204451 dBm\n"
     ]
    }
   ],
   "source": [
    "fc = 5_000_000_000\n",
    "wifi_dist = [0.5, 6, 2.5]\n",
    "\n",
    "\n",
    "\n",
    "for (i, dst) in enumerate(wifi_dist, start=1):\n",
    "    print(f\"Wifi {i}:\", 20 - db_to_dbm(PLwf(dst, fc) + 3), \"dBm\")\n",
    "\n"
   ]
  }
 ],
 "metadata": {
  "kernelspec": {
   "display_name": "Python 3",
   "language": "python",
   "name": "python3"
  },
  "language_info": {
   "codemirror_mode": {
    "name": "ipython",
    "version": 3
   },
   "file_extension": ".py",
   "mimetype": "text/x-python",
   "name": "python",
   "nbconvert_exporter": "python",
   "pygments_lexer": "ipython3",
   "version": "3.11.5"
  },
  "orig_nbformat": 4
 },
 "nbformat": 4,
 "nbformat_minor": 2
}
